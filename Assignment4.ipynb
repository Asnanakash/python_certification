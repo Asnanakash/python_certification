{
  "metadata": {
    "kernelspec": {
      "name": "python",
      "display_name": "Python (Pyodide)",
      "language": "python"
    },
    "language_info": {
      "codemirror_mode": {
        "name": "python",
        "version": 3
      },
      "file_extension": ".py",
      "mimetype": "text/x-python",
      "name": "python",
      "nbconvert_exporter": "python",
      "pygments_lexer": "ipython3",
      "version": "3.8"
    }
  },
  "nbformat_minor": 4,
  "nbformat": 4,
  "cells": [
    {
      "cell_type": "code",
      "source": "#Write a Python program to create a lambda function that adds 15 to a given number passed in as an argument, \n#also create a lambda function that multiplies argument x with argument y and prints the result.\n#Ans:\n",
      "metadata": {
        "trusted": true
      },
      "outputs": [],
      "execution_count": null
    },
    {
      "cell_type": "code",
      "source": "#lambda function to add 15 to a given number\nadd = lambda x: x + 15\n\n# Lambda function to multiply two arguments\nmultiply = lambda x, y: x * y\n\n# Example usage\nnum = 100\nprint(f\"Adding 15 to {num}: {add(num)}\")\n\nx = 10\ny = 50\nprint(f\"Multiplying {x} and {y}: {multiply(x, y)}\")",
      "metadata": {
        "trusted": true
      },
      "outputs": [
        {
          "name": "stdout",
          "text": "Adding 15 to 100: 115\nMultiplying 10 and 50: 500\n",
          "output_type": "stream"
        }
      ],
      "execution_count": 2
    },
    {
      "cell_type": "code",
      "source": "#Write a Python program to create a function that takes one argument, and that argument will be multiplied with \n#an unknown given number.\n",
      "metadata": {
        "trusted": true
      },
      "outputs": [],
      "execution_count": 3
    },
    {
      "cell_type": "code",
      "source": "def mult(num):\n    return lambda x:x*num",
      "metadata": {
        "trusted": true
      },
      "outputs": [],
      "execution_count": 6
    },
    {
      "cell_type": "code",
      "source": "double=mult(2)\ntriple=mult(3)\nQuadruple=mult(4) \nQuintuple=mult(5)",
      "metadata": {
        "trusted": true
      },
      "outputs": [],
      "execution_count": 16
    },
    {
      "cell_type": "code",
      "source": "num=15\nprint(f\"Double value of {num} is {double(num)}\")\nprint(f\"Triple value of {num} is {triple(num)}\")\nprint(f\"Quadruple value of {num} is {Quadruple(num)}\")\nprint(f\"Quintuple value of {num} is {Quintuple(num)}\")",
      "metadata": {
        "trusted": true
      },
      "outputs": [
        {
          "name": "stdout",
          "text": "Double value of 15 is 30\nTriple value of 15 is 45\nQuadruple value of 15 is 60\nQuintuple value of 15 is 75\n",
          "output_type": "stream"
        }
      ],
      "execution_count": 18
    },
    {
      "cell_type": "code",
      "source": " #Write a Python program to sort a list of tuples using Lambda.\n#Original list of tuples:\n#[('English', 88), ('Science', 90), ('Maths', 97), ('Social sciences', 82)]\n#Sorting the List of Tuples:\n#[('Social sciences', 82), ('English', 88), ('Science', 90), ('Maths', 97)]\n",
      "metadata": {
        "trusted": true
      },
      "outputs": [],
      "execution_count": 19
    },
    {
      "cell_type": "code",
      "source": "#Original list of tuples:\nSubjectsScores =[('English', 88), ('Science', 90), ('Maths', 97), ('Social sciences', 82)]\nSortedScores=sorted(SubjectsScores,key=lambda x:x[1])\nprint(\"Sorted List:\",SortedScores)\n",
      "metadata": {
        "trusted": true
      },
      "outputs": [
        {
          "name": "stdout",
          "text": "Sorted List: [('English', 88), ('Maths', 97), ('Science', 90), ('Social sciences', 82)]\n",
          "output_type": "stream"
        }
      ],
      "execution_count": 24
    },
    {
      "cell_type": "code",
      "source": "#Write a Python program to sort a list of dictionaries using Lambda.\n#Original list of dictionaries : [{'make': 'Nokia', 'model': 216, 'color': 'Black'}, {'make': 'Mi Max', 'model': '2', 'color': 'Gold'}, {'make': 'Samsung', 'model': 7, 'color': 'Blue'}]\n#Sorting the List of dictionaries :[{'make': 'Nokia', 'model': 216, 'color': 'Black'}, {'make': 'Samsung', 'model': 7, 'color': 'Blue'}, {'make': 'Mi Max', 'model': '2', 'color': 'Gold'}]",
      "metadata": {
        "trusted": true
      },
      "outputs": [],
      "execution_count": 25
    },
    {
      "cell_type": "code",
      "source": "Phones=[\n    {'make': 'Nokia', 'model': 216, 'color': 'Black'}, \n    {'make': 'Mi Max', 'model': '2', 'color': 'Gold'},\n    {'make': 'Samsung', 'model': 7, 'color': 'Blue'}\n]\nSortedPhones=sorted(Phones,key=lambda x:x['make'])\nprint(\"Sorted result of Dictionory is: \", SortedPhones)\n",
      "metadata": {
        "trusted": true
      },
      "outputs": [
        {
          "name": "stdout",
          "text": "Sorted result of Dictionory is:  [{'make': 'Mi Max', 'model': '2', 'color': 'Gold'}, {'make': 'Nokia', 'model': 216, 'color': 'Black'}, {'make': 'Samsung', 'model': 7, 'color': 'Blue'}]\n",
          "output_type": "stream"
        }
      ],
      "execution_count": 27
    },
    {
      "cell_type": "code",
      "source": "#Write a Python program to filter a list of integers using Lambda.\nOriginallist=[1, 2, 3, 4, 5, 6, 7, 8, 9, 10]\nEvenlist = list(filter(lambda x:x%2==0,Originallist))\nOddlist=list(filter(lambda x:x%2!=0,Originallist))\n\nprint(\"Odd List: \",Oddlist)\nprint(\"Even List: \",Evenlist)\n\n\n",
      "metadata": {
        "trusted": true
      },
      "outputs": [
        {
          "name": "stdout",
          "text": "Odd List:  [1, 3, 5, 7, 9]\nEven List:  [2, 4, 6, 8, 10]\n",
          "output_type": "stream"
        }
      ],
      "execution_count": 30
    },
    {
      "cell_type": "code",
      "source": "#Write a Python program to square and cube every number in a given list of integers using Lambda.\nnumList=[1, 2, 3, 4, 5, 6, 7, 8, 9, 10]\nSquareList= list(map(lambda x:x**2, numList))\nCubeList= list(map(lambda x:x**3, numList))\nprint(\"Square of the List: \", SquareList)\nprint(\"Cube of the List: \", CubeList)\n\n\n",
      "metadata": {
        "trusted": true
      },
      "outputs": [
        {
          "name": "stdout",
          "text": "Square of the List:  [1, 4, 9, 16, 25, 36, 49, 64, 81, 100]\nCube of the List:  [1, 8, 27, 64, 125, 216, 343, 512, 729, 1000]\n",
          "output_type": "stream"
        }
      ],
      "execution_count": 34
    },
    {
      "cell_type": "code",
      "source": "#Write a Python program to find if a given string starts with a given character using Lambda.\n\nTestStart= lambda x: True if x.startswith('h') else False\nprint(TestStart('sunday'))\nprint(TestStart('hari'))\nprint(TestStart('Hen'))\n\n\n",
      "metadata": {
        "trusted": true
      },
      "outputs": [
        {
          "name": "stdout",
          "text": "False\nTrue\nFalse\n",
          "output_type": "stream"
        }
      ],
      "execution_count": 43
    },
    {
      "cell_type": "code",
      "source": "#Write a Python program to extract year, month, date and time using Lambda.\n\nfrom datetime import datetime\n\n# Sample datetime string\ndatetime_str = '2020-01-15 09:03:32.744178'\n\n# Parse the datetime string into a datetime object\ndt = datetime.strptime(datetime_str, '%Y-%m-%d %H:%M:%S.%f')\n\n# Lambda functions to extract year, month, day, and time\nextract_year = lambda dt: dt.year\nextract_month = lambda dt: dt.month\nextract_day = lambda dt: dt.day\nextract_time = lambda dt: dt.strftime('%H:%M:%S.%f')\n\n# Extract and display the results\nyear = extract_year(dt)\nmonth = extract_month(dt)\nday = extract_day(dt)\ntime = extract_time(dt)\n\nprint(f\"Original datetime: {datetime_str}\")\nprint(f\"Year: {year}\")\nprint(f\"Month: {month}\")\nprint(f\"Day: {day}\")\nprint(f\"Time: {time}\")\n",
      "metadata": {
        "trusted": true
      },
      "outputs": [
        {
          "name": "stdout",
          "text": "Original datetime: 2020-01-15 09:03:32.744178\nYear: 2020\nMonth: 1\nDay: 15\nTime: 09:03:32.744178\n",
          "output_type": "stream"
        }
      ],
      "execution_count": 44
    },
    {
      "cell_type": "code",
      "source": "#Write a Python program to check whether a given string is a number or not using Lambda.\n\ndef is_number(s):\n    \n    try:\n        float(s)  # Try converting the string to a float\n        return True\n    except ValueError:\n        return False\n\n# Lambda function to check if a string is a number\ncheck_number = lambda s: is_number(s)\n\n# Sample strings to test\ntest_strings = ['123', '45.67', 'abc', '-789', '3.14e-10', 'NaN']\n\n# Check and display results\nresults = [check_number(s) for s in test_strings]\n\nprint(\"Checking numbers:\")\nfor result in results:\n    print(result)",
      "metadata": {
        "trusted": true
      },
      "outputs": [
        {
          "name": "stdout",
          "text": "Checking numbers:\nTrue\nTrue\nFalse\nTrue\nTrue\nTrue\n",
          "output_type": "stream"
        }
      ],
      "execution_count": 45
    },
    {
      "cell_type": "code",
      "source": "#Write a Python program to create Fibonacci series up to n using Lambda.\ndef fibonacci_series(n):\n    \"\"\"Generate Fibonacci series up to n elements.\"\"\"\n    fib = lambda x, y, n: [] if n == 0 else [x] + fib(y, x + y, n - 1)\n    return fib(0, 1, n)\n\n# Test cases\nprint(\"Fibonacci series up to 2:\", fibonacci_series(2))\nprint(\"Fibonacci series up to 5:\", fibonacci_series(5))\nprint(\"Fibonacci series up to 6:\", fibonacci_series(6))\nprint(\"Fibonacci series up to 9:\", fibonacci_series(9))",
      "metadata": {
        "trusted": true
      },
      "outputs": [
        {
          "name": "stdout",
          "text": "Fibonacci series up to 2: [0, 1]\nFibonacci series up to 5: [0, 1, 1, 2, 3]\nFibonacci series up to 6: [0, 1, 1, 2, 3, 5]\nFibonacci series up to 9: [0, 1, 1, 2, 3, 5, 8, 13, 21]\n",
          "output_type": "stream"
        }
      ],
      "execution_count": 46
    },
    {
      "cell_type": "code",
      "source": "#Write a Python program to find the intersection of two given arrays using Lambda.\n\n# Original arrays\narray1 = [1, 2, 3, 5, 7, 8, 9, 10]\narray2 = [1, 2, 4, 8, 9]\n\n# Lambda function to find intersection\nintersection = lambda arr1, arr2: list(filter(lambda x: x in arr2, arr1))\n\n# Find intersection of the two arrays\nresult = intersection(array1, array2)\n\n# Display the results\nprint(\"Original arrays:\")\nprint(array1)\nprint(array2)\nprint(\"Intersection of the said arrays:\", result)",
      "metadata": {
        "trusted": true
      },
      "outputs": [
        {
          "name": "stdout",
          "text": "Original arrays:\n[1, 2, 3, 5, 7, 8, 9, 10]\n[1, 2, 4, 8, 9]\nIntersection of the said arrays: [1, 2, 8, 9]\n",
          "output_type": "stream"
        }
      ],
      "execution_count": 47
    },
    {
      "cell_type": "code",
      "source": "",
      "metadata": {
        "trusted": true
      },
      "outputs": [],
      "execution_count": null
    }
  ]
}