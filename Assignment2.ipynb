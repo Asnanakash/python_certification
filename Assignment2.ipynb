{
  "metadata": {
    "kernelspec": {
      "name": "python",
      "display_name": "Python (Pyodide)",
      "language": "python"
    },
    "language_info": {
      "codemirror_mode": {
        "name": "python",
        "version": 3
      },
      "file_extension": ".py",
      "mimetype": "text/x-python",
      "name": "python",
      "nbconvert_exporter": "python",
      "pygments_lexer": "ipython3",
      "version": "3.8"
    }
  },
  "nbformat_minor": 4,
  "nbformat": 4,
  "cells": [
    {
      "cell_type": "code",
      "source": "#customer_input = str(input(\"Enter a Reference ID : \"))\ncustomer_input=\"Happysunday9\"\ncustomer_input_utf = customer_input.encode()\ninput_length =len(customer_input)\nlower_alpha_input,upper_alpha_input,num_input,special_input=0,0,0,0\nif (input_length==12):\n    for value in customer_input:\n\n        # counting lowercase alphabets\n        if (value.islower()):\n            lower_alpha_input += 1\n\n        # counting uppercase alphabets\n        if (value.isupper()):\n            upper_alpha_input += 1\n\n        # counting numbers\n        if (value.isdigit()):\n            num_input += 1\n\n        # counting special characters\n        if (value.isalnum()==False):\n            special_input += 1\n\nif (lower_alpha_input > 0 and upper_alpha_input >0 and num_input >0 and special_input == 0\n        and (lower_alpha_input + upper_alpha_input + num_input + special_input) == input_length):\n    print(\"Entered Reference ID is Valid\")\n    print(\"The encrypted Reference ID is :\",customer_input_utf)\nelse:\n    print(\"Entered Reference ID is InValid\")\n    \n    ",
      "metadata": {
        "trusted": true
      },
      "outputs": [
        {
          "name": "stdout",
          "text": "Entered Reference ID is Valid\nThe encrypted Reference ID is : b'Happysunday9'\n",
          "output_type": "stream"
        }
      ],
      "execution_count": 45
    },
    {
      "cell_type": "markdown",
      "source": "",
      "metadata": {}
    }
  ]
}